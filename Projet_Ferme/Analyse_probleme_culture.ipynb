{
 "cells": [
  {
   "cell_type": "markdown",
   "id": "6aad5246-ffa1-4986-aff5-4b6d1f7bc554",
   "metadata": {},
   "source": [
    "# Analyse complète d'un problème de Data Science\n",
    "\n",
    "### Etape 1 : \n",
    "\n",
    "#### Variables disponibles:\n",
    "•surface_ha : Surface cultivée en hectares\n",
    "•type_sol : Type de sol (argileux, sableux, limoneux)\n",
    "•engrais_kg/ha : Quantité d'engrais utilisée en kg/ha\n",
    "•precipitations_mm : Précipitations moyennes mensuelles en mm\n",
    "•temperature_C : Température moyenne mensuelle en °C\n",
    "•rendement_t/ha : Rendement obtenu en tonnes par hectare\n",
    "\n",
    "#### Formulation du problème métier:\n",
    "On souhaite prédire le rendement ( en tonnes par hectares) pour une ferme qui cultive du maïs pour cela on souhaite optimiser les ressources dont on dispose pour maximiser le rendement ( type de sol , quantité d'engrais, précipitations, température moyene et surface cultivée)\n",
    "\n",
    "#### Identifiction de la variable cible et les variables explicatives\n",
    "##### Variable cible :\n",
    "- rendement_t/ha\n",
    "##### Variables explicatives :\n",
    "- type_sol\n",
    "- engrais_kg/ha\n",
    "- precipitations_mm\n",
    "- temperature_C\n",
    "\n",
    "\n",
    "#### Problèmatique centrale pour la ferme \n",
    "Optimiser les variables explicatives afin de maximiser le rendement.\n",
    "\n",
    "\n"
   ]
  },
  {
   "cell_type": "code",
   "execution_count": null,
   "id": "4497cf13-60ea-43e0-b2d8-62e5fd38bbe7",
   "metadata": {},
   "outputs": [],
   "source": [
    "# Visulalisation des données \n",
    "\n"
   ]
  }
 ],
 "metadata": {
  "kernelspec": {
   "display_name": "Python 3 (ipykernel)",
   "language": "python",
   "name": "python3"
  },
  "language_info": {
   "codemirror_mode": {
    "name": "ipython",
    "version": 3
   },
   "file_extension": ".py",
   "mimetype": "text/x-python",
   "name": "python",
   "nbconvert_exporter": "python",
   "pygments_lexer": "ipython3",
   "version": "3.10.12"
  }
 },
 "nbformat": 4,
 "nbformat_minor": 5
}
